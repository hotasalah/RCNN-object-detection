{
 "cells": [
  {
   "cell_type": "markdown",
   "metadata": {},
   "source": [
    "# Training a region-based CNN custom object detector\n",
    "Region proposals are used to identify objects within an image. <br>R-CNN assists in identifying both the objects\n",
    "present in the image and the location of objects within the image."
   ]
  },
  {
   "cell_type": "code",
   "execution_count": null,
   "metadata": {},
   "outputs": [],
   "source": [
    "import torch\n",
    "import torch.nn as nn\n",
    "import torch.nn.functional as F\n",
    "\n",
    "from torch import optim\n",
    "from torch.utils.data import TensorDataset, DataLoader\n",
    "\n",
    "import selectivesearch\n",
    "from torch_snippets import *\n",
    "a\n",
    "from torchvision import transforms, models, datasets\n",
    "from torch_snippets import Report\n",
    "from torchvision.ops import nms\n",
    "\n",
    "import matplotlib.pyplot as plt\n",
    "\n",
    "from google.colab import files"
   ]
  },
  {
   "cell_type": "markdown",
   "metadata": {},
   "source": [
    "#### Downloading the dataset"
   ]
  },
  {
   "cell_type": "code",
   "execution_count": null,
   "metadata": {},
   "outputs": [],
   "source": [
    "files.upload()"
   ]
  },
  {
   "cell_type": "code",
   "execution_count": null,
   "metadata": {},
   "outputs": [],
   "source": [
    "!mkdir -p ~/.kaggle\n",
    "!mv kaggle.json ~/.kaggle/\n",
    "!ls ~/.kaggle\n",
    "!chmod 600 /root/.kaggle/kaggle.json\n",
    "!kaggle datasets download -d sixhky/open-images-bus-trucks/\n",
    "!unzip -qq open-images-bus-trucks.zip"
   ]
  },
  {
   "cell_type": "code",
   "execution_count": null,
   "metadata": {},
   "outputs": [],
   "source": [
    "device = 'cuda' if torch.cuda.is_available() else 'cpu'"
   ]
  },
  {
   "cell_type": "markdown",
   "metadata": {},
   "source": [
    "#### Prepairing the dataset"
   ]
  },
  {
   "cell_type": "code",
   "execution_count": null,
   "metadata": {},
   "outputs": [],
   "source": [
    "IMAGE_ROOT = 'images/images'\n",
    "DF_RAW = pd.read_csv('df.csv')\n",
    "print(DF_RAW.head())"
   ]
  },
  {
   "cell_type": "code",
   "execution_count": null,
   "metadata": {},
   "outputs": [],
   "source": [
    "class OpenImages(Dataset):\n",
    "    \n",
    "    def __init__(self, df, image_folder=IMAGE_ROOT):\n",
    "        \n",
    "        self.root = image_folder\n",
    "        self.df = df\n",
    "        self.unique_images = df['ImageID'].unique()\n",
    "        \n",
    "    def __len__(self):\n",
    "        return len(self.unique_images)\n",
    "    \n",
    "    def __getitem__(self, ix):\n",
    "        \n",
    "        image_id = self.unique_images[ix]\n",
    "        image_path = f'{self.root}/{image_id}.jpg'\n",
    "        image = cv2.imread(image_path, 1)[...,::-1] # convert BGR to RGB\n",
    "        h, w, _ = image.shape\n",
    "        \n",
    "        df = self.df.copy()\n",
    "        df = df[df['ImageID'] == image_id]\n",
    "        \n",
    "        boxes = df['XMin,YMin,XMax,YMax'.split(',')].values\n",
    "        boxes = (boxes * np.array([w,h,w,h])).astype(np.uint16).tolist()\n",
    "        classes = df['LabelName'].values.tolist()\n",
    "        \n",
    "        return image, boxes, classes, image_path"
   ]
  },
  {
   "cell_type": "code",
   "execution_count": null,
   "metadata": {},
   "outputs": [],
   "source": [
    "ds = OpenImages(df=DF_RAW)\n",
    "im, bbs, clss, _ = ds[9]\n",
    "\n",
    "show(im, bbs=bbs, texts=clss, sz=10)"
   ]
  },
  {
   "cell_type": "code",
   "execution_count": null,
   "metadata": {},
   "outputs": [],
   "source": [
    "def extract_candidates(img):\n",
    "    \n",
    "    img_lbl, regions = selectivesearch.selective_search(img, scale=200, min_size=100)\n",
    "    img_area = np.prod(img.shape[:2])\n",
    "    candidates = []\n",
    "    \n",
    "    for r in regions:\n",
    "        if r['rect'] in candidates: continue\n",
    "        if r['size'] < (0.05*img_area): continue\n",
    "        if r['size'] > (1*img_area): continue\n",
    "        x, y, w, h = r['rect']\n",
    "        candidates.append(list(r['rect']))\n",
    "        \n",
    "    return candidates\n",
    "\n",
    "def extract_iou(boxA, boxB, epsilon=1e-5):\n",
    "    \n",
    "    x1 = max(boxA[0], boxB[0])\n",
    "    y1 = max(boxA[1], boxB[1])\n",
    "    x2 = min(boxA[2], boxB[2])\n",
    "    y2 = min(boxA[3], boxB[3])\n",
    "    width = (x2 - x1)\n",
    "    height = (y2 - y1)\n",
    "    \n",
    "    if (width<0) or (height <0):\n",
    "        return 0.0\n",
    "    \n",
    "    area_overlap = width * height\n",
    "    area_a = (boxA[2] - boxA[0]) * (boxA[3] - boxA[1])\n",
    "    area_b = (boxB[2] - boxB[0]) * (boxB[3] - boxB[1])\n",
    "    area_combined = area_a + area_b - area_overlap\n",
    "    iou = area_overlap / (area_combined+epsilon)\n",
    "    \n",
    "    return iou"
   ]
  },
  {
   "cell_type": "markdown",
   "metadata": {},
   "source": [
    "#### Fetching region proposals and the ground truth of offset"
   ]
  },
  {
   "cell_type": "code",
   "execution_count": null,
   "metadata": {},
   "outputs": [],
   "source": [
    "# FPATHS : file paths\n",
    "# GTBBS  : ground truth boundingboxes\n",
    "# CLSS   : classes of objects\n",
    "# DELTAS : delta offset of a bounding box with region proposals\n",
    "# ROIS   : region proposal locations\n",
    "# IOUS   : IoU of region proposals with ground truths\n",
    "\n",
    "FPATHS, GTBBS, CLSS, DELTAS, ROIS, IOUS = [], [], [], [], [], []\n",
    "\n",
    "# we are specifying that we will work on 500 images\n",
    "N = 500\n",
    "\n",
    "for ix, (im, bbs, labels, fpath) in enumerate(ds):\n",
    "    if(ix==N):\n",
    "        break\n",
    "    H, W, _ = im.shape\n",
    "    candidates = extract_candidates(im)\n",
    "    candidates = np.array([(x,y,x+w,y+h) for x,y,w,h in candidates])\n",
    "    ious, rois, clss, deltas = [], [], [], []\n",
    "    ious = np.array([[extract_iou(candidate, _bb_) for candidate in candidates] for _bb_ in bbs]).T\n",
    "    \n",
    "    for jx, candidate in enumerate(candidates):\n",
    "        cx,cy,cX,cY = candidate\n",
    "        candidate_ious = ious[jx]\n",
    "        best_iou_at = np.argmax(candidate_ious)\n",
    "        best_iou = candidate_ious[best_iou_at]\n",
    "        best_bb = _x,_y,_X,_Y = bbs[best_iou_at]\n",
    "        \n",
    "        if best_iou > 0.3:\n",
    "            clss.append(labels[best_iou_at])\n",
    "        else :\n",
    "            clss.append('background')\n",
    "            \n",
    "        delta = np.array([_x-cx, _y-cy, _X-cX, _Y-cY]) / np.array([W,H,W,H])\n",
    "        deltas.append(delta)\n",
    "        rois.append(candidate / np.array([W,H,W,H]))\n",
    "        \n",
    "    FPATHS.append(fpath)\n",
    "    IOUS.append(ious)\n",
    "    ROIS.append(rois)\n",
    "    CLSS.append(clss)\n",
    "    DELTAS.append(deltas)\n",
    "    GTBBS.append(bbs)\n",
    "    \n",
    "FPATHS = [f'{IMAGE_ROOT}/{stem(f)}.jpg' for f in FPATHS] \n",
    "FPATHS, GTBBS, CLSS, DELTAS, ROIS = [item for item in [FPATHS, GTBBS, CLSS, DELTAS, ROIS]]"
   ]
  },
  {
   "cell_type": "code",
   "execution_count": null,
   "metadata": {},
   "outputs": [],
   "source": [
    "targets = pd.DataFrame(flatten(CLSS), columns=['label'])\n",
    "label2target = {l:t for t,l in enumerate(targets['label'].unique())}\n",
    "target2label = {t:l for l,t in label2target.items()}\n",
    "background_class = label2target['background']"
   ]
  },
  {
   "cell_type": "markdown",
   "metadata": {},
   "source": [
    "#### Creating the training data"
   ]
  },
  {
   "cell_type": "code",
   "execution_count": null,
   "metadata": {},
   "outputs": [],
   "source": [
    "normalize = transforms.Normalize(mean=[0.485, 0.456, 0.406],\n",
    "                                 std=[0.229, 0.224, 0.225])\n",
    "\n",
    "def preprocess_image(img):\n",
    "    \n",
    "    img = torch.tensor(img).permute(2,0,1)\n",
    "    img = normalize(img)\n",
    "    \n",
    "    return img.to(device).float()\n",
    "\n",
    "def decode(_y):\n",
    "    _, preds = _y.max(-1)\n",
    "    \n",
    "    return preds"
   ]
  },
  {
   "cell_type": "code",
   "execution_count": null,
   "metadata": {},
   "outputs": [],
   "source": [
    "class RCNNDataset(Dataset):\n",
    "    \n",
    "    def __init__(self, fpaths, rois, labels, deltas, gtbbs):\n",
    "        \n",
    "        self.fpaths = fpaths\n",
    "        self.gtbbs = gtbbs\n",
    "        self.rois = rois\n",
    "        self.labels = labels\n",
    "        self.deltas = deltas\n",
    "        \n",
    "    def __len__(self):\n",
    "        return len(self.fpaths)\n",
    "    \n",
    "    def __getitem__(self, ix):\n",
    "        \n",
    "        fpath = str(self.fpaths[ix])\n",
    "        image = cv2.imread(fpath, 1)[...,::-1]\n",
    "        H, W, _ = image.shape\n",
    "        sh = np.array([W,H,W,H])\n",
    "        gtbbs = self.gtbbs[ix]\n",
    "        rois = self.rois[ix]\n",
    "        bbs = (np.array(rois)*sh).astype(np.uint16)\n",
    "        labels = self.labels[ix]\n",
    "        deltas = self.deltas[ix]\n",
    "        crops = [image[y:Y,x:X] for (x,y,X,Y) in bbs]\n",
    "        \n",
    "        return image, crops, bbs, labels, deltas, gtbbs, fpath\n",
    "    \n",
    "    def collate_fn(self, batch):\n",
    "        \n",
    "        input, rois, rixs, labels, deltas = [], [], [], [], []\n",
    "        \n",
    "        for ix in range(len(batch)):\n",
    "            image, crops, image_bbs, image_labels, image_deltas, image_gt_bbs, image_fpath = batch[ix]\n",
    "            crops = [cv2.resize(crop, (224,224)) for crop in crops]\n",
    "            crops = [preprocess_image(crop/255.)[None] for crop in crops]\n",
    "            input.extend(crops)\n",
    "            labels.extend([label2target[c] for c in image_labels])\n",
    "            deltas.extend(image_deltas)\n",
    "            \n",
    "        input = torch.cat(input).to(device)\n",
    "        labels = torch.Tensor(labels).long().to(device)\n",
    "        deltas = torch.Tensor(deltas).float().to(device)\n",
    "        \n",
    "        return input, labels, deltas"
   ]
  },
  {
   "cell_type": "code",
   "execution_count": null,
   "metadata": {},
   "outputs": [],
   "source": [
    "n_train = 9*len(FPATHS)//10\n",
    "train_ds = RCNNDataset(FPATHS[:n_train], ROIS[:n_train], CLSS[:n_train], DELTAS[:n_train], GTBBS[:n_train])\n",
    "test_ds = RCNNDataset(FPATHS[n_train:], ROIS[n_train:], CLSS[n_train:], DELTAS[n_train:], GTBBS[n_train:])\n",
    "\n",
    "train_loader = DataLoader(train_ds, batch_size=2, collate_fn=train_ds.collate_fn, drop_last=True)\n",
    "test_loader = DataLoader(test_ds, batch_size=2, collate_fn=test_ds.collate_fn, drop_last=True)"
   ]
  },
  {
   "cell_type": "markdown",
   "metadata": {},
   "source": [
    "#### R-CNN network architecture"
   ]
  },
  {
   "cell_type": "code",
   "execution_count": null,
   "metadata": {},
   "outputs": [],
   "source": [
    "vgg_backbone = models.vgg16(pretrained=True)\n",
    "vgg_backbone.classifier = nn.Sequential()\n",
    "\n",
    "for param in vgg_backbone.parameters():\n",
    "    param.requires_grad = False\n",
    "    \n",
    "vgg_backbone.eval().to(device)"
   ]
  },
  {
   "cell_type": "code",
   "execution_count": null,
   "metadata": {},
   "outputs": [],
   "source": [
    "class RCNN(nn.Module):\n",
    "    \n",
    "    def __init__(self):\n",
    "        super().__init__()\n",
    "        \n",
    "        feature_dim = 25088\n",
    "        self.backbone = vgg_backbone\n",
    "        self.cls_score = nn.Linear(feature_dim, len(label2target))\n",
    "        \n",
    "        self.bbox = nn.Sequential(\n",
    "              nn.Linear(feature_dim, 512),\n",
    "              nn.ReLU(),\n",
    "              nn.Linear(512, 4),\n",
    "              nn.Tanh(),\n",
    "            )\n",
    "        \n",
    "        self.cel = nn.CrossEntropyLoss()\n",
    "        self.sl1 = nn.L1Loss()\n",
    "        \n",
    "    def forward(self, input):\n",
    "        \n",
    "        feat = self.backbone(input)\n",
    "        cls_score = self.cls_score(feat)\n",
    "        bbox = self.bbox(feat)\n",
    "        \n",
    "        return cls_score, bbox\n",
    "    \n",
    "    def calc_loss(self, probs, _deltas, labels, deltas):\n",
    "        \n",
    "        detection_loss = self.cel(probs, labels)\n",
    "        ixs, = torch.where(labels != 0)\n",
    "        _deltas = _deltas[ixs]\n",
    "        deltas = deltas[ixs]\n",
    "        self.lmb = 10.0\n",
    "        \n",
    "        if len(ixs) > 0:\n",
    "            regression_loss = self.sl1(_deltas, deltas)\n",
    "            return detection_loss + self.lmb * regression_loss, detection_loss.detach(), regression_loss.detach()\n",
    "        else:\n",
    "            regression_loss = 0\n",
    "            return detection_loss + self.lmb * regression_loss, detection_loss.detach(), regression_loss"
   ]
  },
  {
   "cell_type": "markdown",
   "metadata": {},
   "source": [
    "#### Defining a function that returns the loss on test data and the predicted key points"
   ]
  },
  {
   "cell_type": "code",
   "execution_count": null,
   "metadata": {},
   "outputs": [],
   "source": [
    "def train_batch(inputs, model, optimizer, criterion):\n",
    "    \n",
    "    input, clss, deltas = inputs\n",
    "    model.train()\n",
    "    optimizer.zero_grad()\n",
    "    _clss, _deltas = model(input)\n",
    "    loss, loc_loss, regr_loss = criterion(_clss, _deltas, clss, deltas)\n",
    "    accs = clss == decode(_clss)\n",
    "    loss.backward()\n",
    "    optimizer.step()\n",
    "    \n",
    "    return loss.detach(), loc_loss, regr_loss, accs.cpu().numpy()"
   ]
  },
  {
   "cell_type": "code",
   "execution_count": null,
   "metadata": {},
   "outputs": [],
   "source": [
    "@torch.no_grad()\n",
    "def validate_batch(inputs, model, criterion):\n",
    "    \n",
    "    input, clss, deltas = inputs\n",
    "    with torch.no_grad():\n",
    "        model.eval()\n",
    "        _clss,_deltas = model(input)\n",
    "        loss, loc_loss, regr_loss = criterion(_clss, _deltas, clss, deltas)\n",
    "        _, _clss = _clss.max(-1)\n",
    "        accs = clss == _clss\n",
    "        \n",
    "    return _clss, _deltas, loss.detach(), loc_loss, regr_loss, accs.cpu().numpy()"
   ]
  },
  {
   "cell_type": "markdown",
   "metadata": {},
   "source": [
    "#### Training the model"
   ]
  },
  {
   "cell_type": "code",
   "execution_count": null,
   "metadata": {},
   "outputs": [],
   "source": [
    "rcnn = RCNN().to(device)\n",
    "criterion = rcnn.calc_loss\n",
    "optimizer = optim.SGD(rcnn.parameters(), lr=1e-3)\n",
    "n_epochs = 5\n",
    "log = Report(n_epochs)"
   ]
  },
  {
   "cell_type": "code",
   "execution_count": null,
   "metadata": {},
   "outputs": [],
   "source": [
    "for epoch in range(n_epochs):\n",
    "\n",
    "    _n = len(train_loader)\n",
    "    for ix, inputs in enumerate(train_loader):\n",
    "        loss, loc_loss, regr_loss, accs = train_batch(inputs, rcnn, \n",
    "                                                      optimizer, criterion)\n",
    "        pos = (epoch + (ix+1)/_n)\n",
    "        log.record(pos, trn_loss=loss.item(), trn_loc_loss=loc_loss, \n",
    "                   trn_regr_loss=regr_loss, \n",
    "                   trn_acc=accs.mean(), end='\\r')\n",
    "        \n",
    "    _n = len(test_loader)\n",
    "    for ix,inputs in enumerate(test_loader):\n",
    "        _clss, _deltas, loss, \\\n",
    "        loc_loss, regr_loss, accs = validate_batch(inputs, \n",
    "                                                rcnn, criterion)\n",
    "        pos = (epoch + (ix+1)/_n)\n",
    "        log.record(pos, val_loss=loss.item(), val_loc_loss=loc_loss, \n",
    "                val_regr_loss=regr_loss, \n",
    "                val_acc=accs.mean(), end='\\r')"
   ]
  },
  {
   "cell_type": "code",
   "execution_count": null,
   "metadata": {},
   "outputs": [],
   "source": [
    "# Plotting training and validation metrics\n",
    "log.plot_epochs('trn_loss,val_loss'.split(','))"
   ]
  },
  {
   "cell_type": "markdown",
   "metadata": {},
   "source": [
    "#### Predict on a new image"
   ]
  },
  {
   "cell_type": "code",
   "execution_count": null,
   "metadata": {},
   "outputs": [],
   "source": [
    "def test_predictions(filename, show_output=True):\n",
    "    \n",
    "    img = np.array(cv2.imread(filename, 1)[...,::-1])\n",
    "    candidates = extract_candidates(img)\n",
    "    candidates = [(x,y,x+w,y+h) for x,y,w,h in candidates]\n",
    "    input = []\n",
    "    \n",
    "    for candidate in candidates:\n",
    "        x,y,X,Y = candidate\n",
    "        crop = cv2.resize(img[y:Y,x:X], (224,224))\n",
    "        input.append(preprocess_image(crop/255.)[None])\n",
    "        \n",
    "    input = torch.cat(input).to(device)\n",
    "    \n",
    "    with torch.no_grad():\n",
    "        rcnn.eval()\n",
    "        probs, deltas = rcnn(input)\n",
    "        probs = torch.nn.functional.softmax(probs, -1)\n",
    "        confs, clss = torch.max(probs, -1)\n",
    "        \n",
    "    candidates = np.array(candidates)\n",
    "    confs, clss, probs, deltas = [tensor.detach().cpu().numpy() for tensor in [confs, clss, probs, deltas]]\n",
    "\n",
    "    ixs = clss!=background_class\n",
    "    confs, clss, probs, deltas, candidates = [tensor[ixs] for tensor in [confs, clss, probs, deltas, candidates]]\n",
    "    bbs = (candidates + deltas).astype(np.uint16)\n",
    "    ixs = nms(torch.tensor(bbs.astype(np.float32)), torch.tensor(confs), 0.05)\n",
    "    confs, clss, probs, deltas, candidates, bbs = [tensor[ixs] for tensor in [confs, clss, probs, deltas, candidates, bbs]]\n",
    "    \n",
    "    if len(ixs) == 1:\n",
    "        confs, clss, probs, deltas, candidates, bbs = [tensor[None] for tensor in [confs, clss, probs, deltas, candidates, bbs]]\n",
    "    \n",
    "    if len(confs) == 0 and not show_output:\n",
    "        return (0,0,224,224), 'background', 0\n",
    "    \n",
    "    if len(confs) > 0:\n",
    "        best_pred = np.argmax(confs)\n",
    "        best_conf = np.max(confs)\n",
    "        best_bb = bbs[best_pred]\n",
    "        x,y,X,Y = best_bb\n",
    "        \n",
    "    _, ax = plt.subplots(1, 2, figsize=(20,10))\n",
    "    show(img, ax=ax[0])\n",
    "    ax[0].grid(False)\n",
    "    ax[0].set_title('Original image')\n",
    "    \n",
    "    if len(confs) == 0:\n",
    "        ax[1].imshow(img)\n",
    "        ax[1].set_title('No objects')\n",
    "        plt.show()\n",
    "        return\n",
    "    \n",
    "    ax[1].set_title(target2label[clss[best_pred]])\n",
    "    show(img, bbs=bbs.tolist(), texts=[target2label[c] for c in clss.tolist()], ax=ax[1], title='predicted bounding box and class')\n",
    "    plt.show()\n",
    "    \n",
    "    return (x,y,X,Y),target2label[clss[best_pred]],best_conf"
   ]
  },
  {
   "cell_type": "code",
   "execution_count": null,
   "metadata": {},
   "outputs": [],
   "source": [
    "image, crops, bbs, labels, deltas, gtbbs, fpath = test_ds[7]\n",
    "test_predictions(fpath)"
   ]
  },
  {
   "cell_type": "code",
   "execution_count": null,
   "metadata": {},
   "outputs": [],
   "source": []
  }
 ],
 "metadata": {
  "kernelspec": {
   "display_name": "Python (deeplearning)",
   "language": "python",
   "name": "deeplearning"
  },
  "language_info": {
   "codemirror_mode": {
    "name": "ipython",
    "version": 3
   },
   "file_extension": ".py",
   "mimetype": "text/x-python",
   "name": "python",
   "nbconvert_exporter": "python",
   "pygments_lexer": "ipython3",
   "version": "3.8.5"
  }
 },
 "nbformat": 4,
 "nbformat_minor": 4
}
